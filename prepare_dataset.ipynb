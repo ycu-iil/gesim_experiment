{
 "cells": [
  {
   "cell_type": "code",
   "execution_count": 1,
   "id": "0a4df1e6-f3aa-4e80-b760-013e7546e2f4",
   "metadata": {},
   "outputs": [],
   "source": [
    "import glob\n",
    "import gzip\n",
    "import os\n",
    "import re"
   ]
  },
  {
   "cell_type": "code",
   "execution_count": null,
   "id": "e2ebb626-31e9-46d8-987a-6734de0f60b1",
   "metadata": {},
   "outputs": [],
   "source": [
    "def get_smiles_list(filename):\n",
    "    ret_list = []\n",
    "    for line in gzip.open(filename, 'rb'):\n",
    "        line = line.decode('utf-8')\n",
    "        if line[0] == '#': \n",
    "            continue\n",
    "        # structure of line: [external ID, internal ID, SMILES]]\n",
    "        ext_id, inter_id, smiles = line.rstrip().split()\n",
    "        ret_list.append(f\"{smiles} {ext_id}\")\n",
    "    return ret_list"
   ]
  },
  {
   "cell_type": "code",
   "execution_count": 41,
   "id": "73446cf0-a828-4a70-9b70-0b067017155c",
   "metadata": {},
   "outputs": [],
   "source": [
    "# ChEMBL\n",
    "active_files = glob.glob(\"./data/benchmarking_platform/compounds/ChEMBL/*_actives.dat.gz\")\n",
    "decoy_file = \"./data/benchmarking_platform/compounds/ChEMBL/cmp_list_ChEMBL_zinc_decoys.dat.gz\"\n",
    "decoy_smiles_list = get_smiles_list(decoy_file)\n",
    "\n",
    "\n",
    "pattern = r'ChEMBL_\\d+'\n",
    "\n",
    "for fname in active_files:\n",
    "    target_name = re.search(pattern, fname).group()\n",
    "    base_dir = os.path.dirname(fname)\n",
    "    output_dir = os.path.join(base_dir, target_name)\n",
    "    os.makedirs(output_dir, exist_ok=True)\n",
    "    active_smiles_list = get_smiles_list(fname)\n",
    "    with open(os.path.join(output_dir, \"actives.smi\"), 'w') as f:\n",
    "        f.write(\"\\n\".join(active_smiles_list))\n",
    "    with open(os.path.join(output_dir, \"inactives.smi\"), 'w') as f:\n",
    "        f.write(\"\\n\".join(decoy_smiles_list))"
   ]
  },
  {
   "cell_type": "code",
   "execution_count": 61,
   "id": "d77af88e-5e5b-4de1-bfd7-5929245c4e16",
   "metadata": {},
   "outputs": [],
   "source": [
    "# DUD\n",
    "active_files = glob.glob(\"./data/benchmarking_platform/compounds/DUD/*_actives.dat.gz\")\n",
    "#decoy_file = \"./data/benchmarking_platform/compounds/ChEMBL/cmp_list_ChEMBL_zinc_decoys.dat.gz\"\n",
    "#decoy_smiles_list = get_smiles_list(decoy_file)\n",
    "\n",
    "pattern = r'DUD_([a-z0-9_]+)_actives'\n",
    "\n",
    "for fname in active_files:\n",
    "    target_name = re.search(pattern, fname).group(1)\n",
    "    base_dir = os.path.dirname(fname)\n",
    "    output_dir = os.path.join(base_dir, target_name)\n",
    "    os.makedirs(output_dir, exist_ok=True)\n",
    "    active_smiles_list = get_smiles_list(fname)\n",
    "    decoy_fname = os.path.join(base_dir, f\"cmp_list_DUD_{target_name}_decoys.dat.gz\")\n",
    "    if not os.path.exists(decoy_fname):\n",
    "        raise\n",
    "    decoy_smiles_list = get_smiles_list(decoy_fname)\n",
    "    with open(os.path.join(output_dir, \"actives.smi\"), 'w') as f:\n",
    "        f.write(\"\\n\".join(active_smiles_list))\n",
    "    with open(os.path.join(output_dir, \"inactives.smi\"), 'w') as f:\n",
    "        f.write(\"\\n\".join(decoy_smiles_list))"
   ]
  },
  {
   "cell_type": "code",
   "execution_count": 64,
   "id": "80c9ce7a-dbbc-4289-a2ee-5ee26a394d68",
   "metadata": {},
   "outputs": [
    {
     "data": {
      "text/plain": [
       "'MUV_466'"
      ]
     },
     "execution_count": 64,
     "metadata": {},
     "output_type": "execute_result"
    }
   ],
   "source": [
    "re.search(pattern, fname).group()"
   ]
  },
  {
   "cell_type": "code",
   "execution_count": 65,
   "id": "a763731a-f115-4503-abe6-91cccc7a89c8",
   "metadata": {},
   "outputs": [],
   "source": [
    "# MUV\n",
    "active_files = glob.glob(\"./data/benchmarking_platform/compounds/MUV/*_actives.dat.gz\")\n",
    "#decoy_file = \"./data/benchmarking_platform/compounds/ChEMBL/cmp_list_ChEMBL_zinc_decoys.dat.gz\"\n",
    "#decoy_smiles_list = get_smiles_list(decoy_file)\n",
    "\n",
    "pattern = r'MUV_\\d+'\n",
    "\n",
    "for fname in active_files:\n",
    "    target_name = re.search(pattern, fname).group()\n",
    "    base_dir = os.path.dirname(fname)\n",
    "    output_dir = os.path.join(base_dir, target_name)\n",
    "    os.makedirs(output_dir, exist_ok=True)\n",
    "    active_smiles_list = get_smiles_list(fname)\n",
    "    decoy_fname = os.path.join(base_dir, f\"cmp_list_{target_name}_decoys.dat.gz\")\n",
    "    if not os.path.exists(decoy_fname):\n",
    "        raise\n",
    "    decoy_smiles_list = get_smiles_list(decoy_fname)\n",
    "    with open(os.path.join(output_dir, \"actives.smi\"), 'w') as f:\n",
    "        f.write(\"\\n\".join(active_smiles_list))\n",
    "    with open(os.path.join(output_dir, \"inactives.smi\"), 'w') as f:\n",
    "        f.write(\"\\n\".join(decoy_smiles_list))"
   ]
  },
  {
   "cell_type": "code",
   "execution_count": 35,
   "id": "b0273a7c-2a16-408d-8aae-6354feaf84b3",
   "metadata": {},
   "outputs": [],
   "source": [
    "from rdkit.Chem.Scaffolds import MurckoScaffold \n",
    "from rdkit import Chem\n",
    "from rdkit.Chem import Draw\n",
    "\n",
    "all_active_fnames = glob.glob(\"./data/benchmarking_platform/compounds/*/*/actives.smi\")\n",
    "ba_ratio_dict = {}\n",
    "for fname in all_active_fnames:\n",
    "    target_name = os.path.basename(os.path.dirname(fname))\n",
    "    with open(fname, 'r') as f:\n",
    "        smiles_list = [l.split(' ')[0] for l in f.readlines()]\n",
    "        bms_set = set([MurckoScaffold.MurckoScaffoldSmilesFromSmiles(s) for s in smiles_list])\n",
    "    ba_ratio_dict[target_name] = round(len(bms_set) / len(smiles_list), 2)\n",
    "#Draw.MolsToGridImage([Chem.MolFromSmiles(s) for s in bms_set])"
   ]
  },
  {
   "cell_type": "code",
   "execution_count": 36,
   "id": "a558983a-e6de-4384-8a22-87811971215a",
   "metadata": {},
   "outputs": [
    {
     "data": {
      "text/plain": [
       "{'ChEMBL_100126': 0.78,\n",
       " 'ChEMBL_100166': 0.54,\n",
       " 'ChEMBL_100579': 0.7,\n",
       " 'ChEMBL_100': 0.91,\n",
       " 'ChEMBL_10188': 0.95,\n",
       " 'ChEMBL_10193': 0.71,\n",
       " 'ChEMBL_10198': 0.69,\n",
       " 'ChEMBL_10260': 0.86,\n",
       " 'ChEMBL_10280': 0.97,\n",
       " 'ChEMBL_10378': 0.83,\n",
       " 'ChEMBL_10417': 0.65,\n",
       " 'ChEMBL_10434': 0.94,\n",
       " 'ChEMBL_10475': 0.45,\n",
       " 'ChEMBL_10498': 0.9,\n",
       " 'ChEMBL_104': 0.73,\n",
       " 'ChEMBL_10579': 0.64,\n",
       " 'ChEMBL_105': 0.66,\n",
       " 'ChEMBL_10752': 0.64,\n",
       " 'ChEMBL_10773': 0.55,\n",
       " 'ChEMBL_107': 0.91,\n",
       " 'ChEMBL_108': 0.86,\n",
       " 'ChEMBL_10927': 0.59,\n",
       " 'ChEMBL_10980': 0.98,\n",
       " 'ChEMBL_11085': 0.71,\n",
       " 'ChEMBL_11140': 0.86,\n",
       " 'ChEMBL_11225': 0.81,\n",
       " 'ChEMBL_11265': 0.59,\n",
       " 'ChEMBL_11279': 0.65,\n",
       " 'ChEMBL_11336': 0.77,\n",
       " 'ChEMBL_11359': 0.81,\n",
       " 'ChEMBL_11365': 0.96,\n",
       " 'ChEMBL_11442': 0.55,\n",
       " 'ChEMBL_11488': 0.47,\n",
       " 'ChEMBL_11489': 0.99,\n",
       " 'ChEMBL_114': 0.96,\n",
       " 'ChEMBL_11534': 0.91,\n",
       " 'ChEMBL_11536': 0.87,\n",
       " 'ChEMBL_11575': 0.8,\n",
       " 'ChEMBL_11631': 0.77,\n",
       " 'ChEMBL_11682': 0.76,\n",
       " 'ChEMBL_116': 0.64,\n",
       " 'ChEMBL_121': 0.87,\n",
       " 'ChEMBL_12209': 0.66,\n",
       " 'ChEMBL_12252': 0.93,\n",
       " 'ChEMBL_12261': 0.65,\n",
       " 'ChEMBL_12670': 0.95,\n",
       " 'ChEMBL_12679': 0.45,\n",
       " 'ChEMBL_126': 0.88,\n",
       " 'ChEMBL_12840': 0.81,\n",
       " 'ChEMBL_12911': 0.96,\n",
       " 'ChEMBL_12952': 0.7,\n",
       " 'ChEMBL_12968': 0.36,\n",
       " 'ChEMBL_13001': 0.91,\n",
       " 'ChEMBL_130': 0.92,\n",
       " 'ChEMBL_134': 0.87,\n",
       " 'ChEMBL_15': 0.73,\n",
       " 'ChEMBL_165': 0.99,\n",
       " 'ChEMBL_17045': 0.98,\n",
       " 'ChEMBL_18061': 0.62,\n",
       " 'ChEMBL_19905': 0.95,\n",
       " 'ChEMBL_20014': 0.87,\n",
       " 'ChEMBL_20174': 0.77,\n",
       " 'ChEMBL_219': 0.94,\n",
       " 'ChEMBL_234': 0.86,\n",
       " 'ChEMBL_237': 0.65,\n",
       " 'ChEMBL_259': 0.95,\n",
       " 'ChEMBL_25': 0.87,\n",
       " 'ChEMBL_276': 0.7,\n",
       " 'ChEMBL_28': 0.48,\n",
       " 'ChEMBL_36': 0.78,\n",
       " 'ChEMBL_43': 0.94,\n",
       " 'ChEMBL_51': 0.88,\n",
       " 'ChEMBL_52': 0.89,\n",
       " 'ChEMBL_61': 0.91,\n",
       " 'ChEMBL_65': 0.88,\n",
       " 'ChEMBL_72': 0.98,\n",
       " 'ChEMBL_87': 0.96,\n",
       " 'ChEMBL_8': 0.93,\n",
       " 'ChEMBL_90': 0.91,\n",
       " 'ChEMBL_93': 0.93,\n",
       " 'ace': 0.61,\n",
       " 'ache': 0.37,\n",
       " 'ar': 0.31,\n",
       " 'cdk2': 0.83,\n",
       " 'cox2': 0.46,\n",
       " 'dhfr': 0.22,\n",
       " 'egfr': 0.24,\n",
       " 'er_agonist': 0.41,\n",
       " 'fgfr1': 0.25,\n",
       " 'fxa': 0.44,\n",
       " 'gpb': 0.29,\n",
       " 'gr': 0.41,\n",
       " 'hivrt': 0.74,\n",
       " 'inha': 0.61,\n",
       " 'na': 0.27,\n",
       " 'p38': 0.34,\n",
       " 'parp': 0.29,\n",
       " 'pdgfrb': 0.31,\n",
       " 'sahh': 0.3,\n",
       " 'src': 0.31,\n",
       " 'vegfr2': 0.81,\n",
       " 'MUV_466': 1.0,\n",
       " 'MUV_548': 0.97,\n",
       " 'MUV_600': 0.97,\n",
       " 'MUV_644': 0.93,\n",
       " 'MUV_652': 0.97,\n",
       " 'MUV_689': 1.0,\n",
       " 'MUV_692': 1.0,\n",
       " 'MUV_712': 0.9,\n",
       " 'MUV_713': 0.97,\n",
       " 'MUV_733': 1.0,\n",
       " 'MUV_737': 0.97,\n",
       " 'MUV_810': 0.93,\n",
       " 'MUV_832': 0.83,\n",
       " 'MUV_846': 0.8,\n",
       " 'MUV_852': 0.8,\n",
       " 'MUV_858': 0.9,\n",
       " 'MUV_859': 1.0}"
      ]
     },
     "execution_count": 36,
     "metadata": {},
     "output_type": "execute_result"
    }
   ],
   "source": [
    "ba_ratio_dict"
   ]
  },
  {
   "cell_type": "code",
   "execution_count": 11,
   "id": "477f7e4a-e62b-45d6-a893-a30e345afb8e",
   "metadata": {},
   "outputs": [
    {
     "data": {
      "text/plain": [
       "'./data/benchmarking_platform/compounds/MUV/MUV_859/actives.smi'"
      ]
     },
     "execution_count": 11,
     "metadata": {},
     "output_type": "execute_result"
    }
   ],
   "source": [
    "all_active_fnames[-1]"
   ]
  }
 ],
 "metadata": {
  "kernelspec": {
   "display_name": "Python 3 (ipykernel)",
   "language": "python",
   "name": "python3"
  },
  "language_info": {
   "codemirror_mode": {
    "name": "ipython",
    "version": 3
   },
   "file_extension": ".py",
   "mimetype": "text/x-python",
   "name": "python",
   "nbconvert_exporter": "python",
   "pygments_lexer": "ipython3",
   "version": "3.11.6"
  }
 },
 "nbformat": 4,
 "nbformat_minor": 5
}
